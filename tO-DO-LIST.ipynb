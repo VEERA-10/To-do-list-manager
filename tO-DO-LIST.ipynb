{
  "nbformat": 4,
  "nbformat_minor": 0,
  "metadata": {
    "colab": {
      "provenance": [],
      "toc_visible": true,
      "authorship_tag": "ABX9TyO0U3zS5gOIhL3IUhcYaWxE",
      "include_colab_link": true
    },
    "kernelspec": {
      "name": "python3",
      "display_name": "Python 3"
    },
    "language_info": {
      "name": "python"
    }
  },
  "cells": [
    {
      "cell_type": "markdown",
      "metadata": {
        "id": "view-in-github",
        "colab_type": "text"
      },
      "source": [
        "<a href=\"https://colab.research.google.com/github/VEERA-10/To-do-list-manager/blob/main/tO-DO-LIST.ipynb\" target=\"_parent\"><img src=\"https://colab.research.google.com/assets/colab-badge.svg\" alt=\"Open In Colab\"/></a>"
      ]
    },
    {
      "cell_type": "code",
      "source": [
        "import sqlite3"
      ],
      "metadata": {
        "id": "q7-5yicBg_A9"
      },
      "execution_count": 2,
      "outputs": []
    },
    {
      "cell_type": "code",
      "source": [
        "def create_database():\n",
        "    connection = sqlite3.connect(\"todo.db\")\n",
        "    cursor = connection.cursor()\n",
        "\n",
        "    # Create table if it doesn't exist\n",
        "    cursor.execute(\"\"\"\n",
        "        CREATE TABLE IF NOT EXISTS tasks (\n",
        "            task_id INTEGER PRIMARY KEY,\n",
        "            task_name TEXT,\n",
        "            completed INTEGER\n",
        "        )\n",
        "    \"\"\")\n",
        "\n",
        "    connection.commit()\n",
        "    connection.close()"
      ],
      "metadata": {
        "id": "Y2vaNe-ehE5l"
      },
      "execution_count": 3,
      "outputs": []
    },
    {
      "cell_type": "code",
      "source": [
        "\n",
        "def add_task(task_name):\n",
        "    connection = sqlite3.connect(\"todo.db\")\n",
        "    cursor = connection.cursor()\n",
        "\n",
        "    cursor.execute(\"INSERT INTO tasks (task_name, completed) VALUES (?, ?)\", (task_name, 0))\n",
        "\n",
        "    connection.commit()\n",
        "    connection.close()"
      ],
      "metadata": {
        "id": "Wg3C3Xf6hHMi"
      },
      "execution_count": 4,
      "outputs": []
    },
    {
      "cell_type": "code",
      "source": [
        "def mark_task_completed(task_id):\n",
        "    connection = sqlite3.connect(\"todo.db\")\n",
        "    cursor = connection.cursor()\n",
        "\n",
        "    cursor.execute(\"UPDATE tasks SET completed = ? WHERE task_id = ?\", (1, task_id))\n",
        "\n",
        "    connection.commit()\n",
        "    connection.close()"
      ],
      "metadata": {
        "id": "BeukUSpRhM_k"
      },
      "execution_count": 5,
      "outputs": []
    },
    {
      "cell_type": "code",
      "source": [
        "def view_tasks():\n",
        "    connection = sqlite3.connect(\"todo.db\")\n",
        "    cursor = connection.cursor()\n",
        "\n",
        "    cursor.execute(\"SELECT * FROM tasks\")\n",
        "    tasks = cursor.fetchall()\n",
        "\n",
        "    for task in tasks:\n",
        "        task_id, task_name, completed = task\n",
        "        status = \"Completed\" if completed else \"Not Completed\"\n",
        "        print(f\"{task_id}. {task_name} - {status}\")\n",
        "\n",
        "    connection.close()"
      ],
      "metadata": {
        "id": "HcSU8XmhhQtJ"
      },
      "execution_count": 6,
      "outputs": []
    },
    {
      "cell_type": "code",
      "source": [
        "if __name__ == \"__main__\":\n",
        "    create_database()\n",
        "\n",
        "    # Example usage\n",
        "    add_task(\"Buy groceries\")\n",
        "    add_task(\"Finish report\")\n",
        "    add_task(\"Go for a walk\")\n",
        "\n",
        "    view_tasks()\n",
        "\n",
        "    mark_task_completed(1)\n",
        "\n",
        "    view_tasks()"
      ],
      "metadata": {
        "colab": {
          "base_uri": "https://localhost:8080/"
        },
        "id": "h52dhfh0h8Aj",
        "outputId": "1ab3510a-39c4-4a30-f09b-3b6aa463023d"
      },
      "execution_count": 11,
      "outputs": [
        {
          "output_type": "stream",
          "name": "stdout",
          "text": [
            "1. Buy groceries - Completed\n",
            "2. Finish report - Not Completed\n",
            "3. Go for a walk - Not Completed\n",
            "4. Buy groceries - Not Completed\n",
            "5. Finish report - Not Completed\n",
            "6. Go for a walk - Not Completed\n",
            "1. Buy groceries - Completed\n",
            "2. Finish report - Not Completed\n",
            "3. Go for a walk - Not Completed\n",
            "4. Buy groceries - Not Completed\n",
            "5. Finish report - Not Completed\n",
            "6. Go for a walk - Not Completed\n"
          ]
        }
      ]
    }
  ]
}